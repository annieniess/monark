{
 "cells": [
  {
   "cell_type": "markdown",
   "id": "dde0821b",
   "metadata": {},
   "source": [
    "# CP Invoice cost check "
   ]
  },
  {
   "cell_type": "markdown",
   "id": "8c18a395",
   "metadata": {},
   "source": [
    "Cleaning - The data is usually collected as part of the business processes and across multiple sheets. Therefore, before we can attempt to analyse/check the data, we need to bring it to a usable form, cleaned and optimized for the purpose we need it for."
   ]
  },
  {
   "cell_type": "code",
   "execution_count": 25,
   "id": "0c181a3b",
   "metadata": {},
   "outputs": [],
   "source": [
    "#Import Libraries that we may need for the project\n",
    "import pandas as pd\n",
    "import numpy as np\n",
    "import matplotlib.pyplot as plt\n",
    "import seaborn as sns\n",
    "%matplotlib inline\n",
    "pd.options.mode.chained_assignment = None  # default='warn'"
   ]
  },
  {
   "cell_type": "code",
   "execution_count": 159,
   "id": "2b316fa3",
   "metadata": {},
   "outputs": [],
   "source": [
    "#import the csv dataset\n",
    "\n",
    "price = pd.read_excel(\"Vogue CPHAr detail 93022.xlsm\", sheet_name=None)\n",
    "\n",
    "cost=price[\"Cost\"]\n",
    "detail=price[\"detail\"]\n"
   ]
  },
  {
   "cell_type": "markdown",
   "id": "ee34c160",
   "metadata": {},
   "source": [
    " in order to set up the common  primary key to merge,  firstly concanate column Item and Quantity to have a new column named \"With packsize\" inside our detail sheet which is the monthly uncleaned  sheet.  "
   ]
  },
  {
   "cell_type": "code",
   "execution_count": 160,
   "id": "db6c636c",
   "metadata": {},
   "outputs": [
    {
     "name": "stdout",
     "output_type": "stream",
     "text": [
      "0       TADALAFIL 20 MG TABLET 30\n",
      "1       TADALAFIL 20 MG TABLET 90\n",
      "2       TADALAFIL 20 MG TABLET 90\n",
      "3      SILDENAFIL 50 MG TABLET 12\n",
      "4        TADALAFIL 5 MG TABLET 90\n",
      "                  ...            \n",
      "223      TADALAFIL 5 MG TABLET 90\n",
      "224     TADALAFIL 20 MG TABLET 30\n",
      "225     TADALAFIL 20 MG TABLET 12\n",
      "226     TADALAFIL 20 MG TABLET 90\n",
      "227     TADALAFIL 10 MG TABLET 60\n",
      "Name: itemqtyd, Length: 228, dtype: object\n"
     ]
    }
   ],
   "source": [
    "detail['itemqtyd'] =detail['ITEM'] +' '+ detail['QTYD'].map(str)\n",
    "print(detail['itemqtyd'])"
   ]
  },
  {
   "cell_type": "code",
   "execution_count": 164,
   "id": "4be50ddb",
   "metadata": {},
   "outputs": [
    {
     "data": {
      "text/plain": [
       "'TADALAFIL    TAB 20MG 12'"
      ]
     },
     "execution_count": 164,
     "metadata": {},
     "output_type": "execute_result"
    }
   ],
   "source": [
    "detail['itemqtyd'][46]"
   ]
  },
  {
   "cell_type": "markdown",
   "id": "581aba6e",
   "metadata": {},
   "source": [
    "clean the \"With packsize\" column with removing extra white space and reverse the unsual display of product name."
   ]
  },
  {
   "cell_type": "code",
   "execution_count": 163,
   "id": "489593a8",
   "metadata": {},
   "outputs": [
    {
     "data": {
      "text/plain": [
       "0       [TADALAFIL, 20, MG, TABLET, 30]\n",
       "1       [TADALAFIL, 20, MG, TABLET, 90]\n",
       "2       [TADALAFIL, 20, MG, TABLET, 90]\n",
       "3      [SILDENAFIL, 50, MG, TABLET, 12]\n",
       "4        [TADALAFIL, 5, MG, TABLET, 90]\n",
       "                     ...               \n",
       "223      [TADALAFIL, 5, MG, TABLET, 90]\n",
       "224     [TADALAFIL, 20, MG, TABLET, 30]\n",
       "225     [TADALAFIL, 20, MG, TABLET, 12]\n",
       "226     [TADALAFIL, 20, MG, TABLET, 90]\n",
       "227     [TADALAFIL, 10, MG, TABLET, 60]\n",
       "Name: a, Length: 228, dtype: object"
      ]
     },
     "execution_count": 163,
     "metadata": {},
     "output_type": "execute_result"
    }
   ],
   "source": [
    "#remove extra space\n",
    "detail['a']= detail['itemqtyd'].str.split()\n",
    "detail['a']\n",
    "#.apply(lambda x: [y.strip() for y in x])"
   ]
  },
  {
   "cell_type": "markdown",
   "id": "ccf2a49c",
   "metadata": {},
   "source": [
    "# check the number of elements\n",
    "# if 4 elemets, reverse index 1 and 2 order\n",
    "# seperate number and mg after reversing order"
   ]
  },
  {
   "cell_type": "code",
   "execution_count": 165,
   "id": "7ed77a2c",
   "metadata": {},
   "outputs": [
    {
     "data": {
      "text/plain": [
       "['TADALAFIL', 'TAB', '20MG', '12']"
      ]
     },
     "execution_count": 165,
     "metadata": {},
     "output_type": "execute_result"
    }
   ],
   "source": [
    "detail['a'][46]"
   ]
  },
  {
   "cell_type": "code",
   "execution_count": 97,
   "id": "017a7545",
   "metadata": {},
   "outputs": [
    {
     "name": "stdout",
     "output_type": "stream",
     "text": [
      "['TADALAFIL', '20', 'MG', 'TABLET', '30']\n"
     ]
    }
   ],
   "source": [
    "ls =['TADALAFIL', 'TAB', '20MG', '12']\n",
    "if ls[2].isnumeric():\n",
    "    print([ls[0],ls[2],ls[3],\"TABLET\",ls[4]])\n",
    "else:\n",
    "    print(ls)"
   ]
  },
  {
   "cell_type": "code",
   "execution_count": 98,
   "id": "185a8e07",
   "metadata": {},
   "outputs": [
    {
     "name": "stdout",
     "output_type": "stream",
     "text": [
      "['TADALAFIL', '20', 'MG', 'TABLET', '30']\n"
     ]
    }
   ],
   "source": [
    "ls1 =[\"TADALAFIL\", \"20\", \"MG\",\"TABLET\", \"30\"]\n",
    "if ls1[2].isnumeric():\n",
    "    print([ls1[0],ls1[2],ls1[3],\"TABLET\",ls1[4]])\n",
    "else:\n",
    "    print(ls1)"
   ]
  },
  {
   "cell_type": "code",
   "execution_count": 157,
   "id": "081b7bdd",
   "metadata": {},
   "outputs": [
    {
     "data": {
      "text/plain": [
       "'10'"
      ]
     },
     "execution_count": 157,
     "metadata": {},
     "output_type": "execute_result"
    }
   ],
   "source": [
    "for i in range (len(detail)):\n",
    "    ls=detail['itemqtyd'][i]\n",
    "ls[1]"
   ]
  },
  {
   "cell_type": "code",
   "execution_count": 155,
   "id": "5290d822",
   "metadata": {},
   "outputs": [],
   "source": [
    "for i in range (len(detail)):\n",
    "    ls=detail['itemqtyd'][i]\n",
    "    if ls[1].isnumeric():\n",
    "        ls\n",
    "    else:\n",
    "        [ls[0],ls[2],ls[1],ls[3]]\n"
   ]
  },
  {
   "cell_type": "code",
   "execution_count": null,
   "id": "3095147c",
   "metadata": {},
   "outputs": [],
   "source": [
    "df['Gender']=np.nan\n",
    "for i in range (len(df)):\n",
    "    entry=df['firstname'][i]\n",
    "    if entry in Cost:\n",
    "        df['Gender'][i]='Male'\n",
    "    else:\n",
    "        df['Gender'][i]='Undefined'"
   ]
  },
  {
   "cell_type": "code",
   "execution_count": 63,
   "id": "6dba3012",
   "metadata": {},
   "outputs": [
    {
     "ename": "KeyError",
     "evalue": "0      EZETIMIBE 10 MG TABLET 100\n1      EZETIMIBE 10 MG TABLET 100\n2      EZETIMIBE 10 MG TABLET 100\n3      EZETIMIBE 10 MG TABLET 100\n4      EZETIMIBE 10 MG TABLET 100\n                  ...            \n255      TADALAFIL 5 MG TABLET 90\n256      TADALAFIL 5 MG TABLET 90\n257      TADALAFIL 5 MG TABLET 90\n258      TADALAFIL 5 MG TABLET 90\n259      TADALAFIL 5 MG TABLET 90\nName: With packsize, Length: 260, dtype: object",
     "output_type": "error",
     "traceback": [
      "\u001b[1;31m---------------------------------------------------------------------------\u001b[0m",
      "\u001b[1;31mKeyError\u001b[0m                                  Traceback (most recent call last)",
      "\u001b[1;32m~\\AppData\\Local\\Temp\\ipykernel_28520\\862930017.py\u001b[0m in \u001b[0;36m<module>\u001b[1;34m\u001b[0m\n\u001b[1;32m----> 1\u001b[1;33m check= price[\"Cost\"].merge(price[\"detail\"], \n\u001b[0m\u001b[0;32m      2\u001b[0m                                      \u001b[0mon\u001b[0m \u001b[1;33m=\u001b[0m \u001b[1;33m[\u001b[0m\u001b[0mprice\u001b[0m\u001b[1;33m[\u001b[0m\u001b[1;34m\"Cost\"\u001b[0m\u001b[1;33m]\u001b[0m\u001b[1;33m[\u001b[0m\u001b[1;34m'With packsize'\u001b[0m\u001b[1;33m]\u001b[0m\u001b[1;33m,\u001b[0m\u001b[0mprice\u001b[0m\u001b[1;33m[\u001b[0m\u001b[1;34m\"detail\"\u001b[0m\u001b[1;33m]\u001b[0m\u001b[1;33m[\u001b[0m\u001b[1;34m'With packsize'\u001b[0m\u001b[1;33m]\u001b[0m\u001b[1;33m]\u001b[0m\u001b[1;33m,\u001b[0m\u001b[1;33m\u001b[0m\u001b[1;33m\u001b[0m\u001b[0m\n\u001b[0;32m      3\u001b[0m                                      how = \"right\")\n\u001b[0;32m      4\u001b[0m \u001b[0mcheck\u001b[0m\u001b[1;33m\u001b[0m\u001b[1;33m\u001b[0m\u001b[0m\n",
      "\u001b[1;32m~\\anaconda3\\lib\\site-packages\\pandas\\core\\frame.py\u001b[0m in \u001b[0;36mmerge\u001b[1;34m(self, right, how, on, left_on, right_on, left_index, right_index, sort, suffixes, copy, indicator, validate)\u001b[0m\n\u001b[0;32m   9352\u001b[0m         \u001b[1;32mfrom\u001b[0m \u001b[0mpandas\u001b[0m\u001b[1;33m.\u001b[0m\u001b[0mcore\u001b[0m\u001b[1;33m.\u001b[0m\u001b[0mreshape\u001b[0m\u001b[1;33m.\u001b[0m\u001b[0mmerge\u001b[0m \u001b[1;32mimport\u001b[0m \u001b[0mmerge\u001b[0m\u001b[1;33m\u001b[0m\u001b[1;33m\u001b[0m\u001b[0m\n\u001b[0;32m   9353\u001b[0m \u001b[1;33m\u001b[0m\u001b[0m\n\u001b[1;32m-> 9354\u001b[1;33m         return merge(\n\u001b[0m\u001b[0;32m   9355\u001b[0m             \u001b[0mself\u001b[0m\u001b[1;33m,\u001b[0m\u001b[1;33m\u001b[0m\u001b[1;33m\u001b[0m\u001b[0m\n\u001b[0;32m   9356\u001b[0m             \u001b[0mright\u001b[0m\u001b[1;33m,\u001b[0m\u001b[1;33m\u001b[0m\u001b[1;33m\u001b[0m\u001b[0m\n",
      "\u001b[1;32m~\\anaconda3\\lib\\site-packages\\pandas\\core\\reshape\\merge.py\u001b[0m in \u001b[0;36mmerge\u001b[1;34m(left, right, how, on, left_on, right_on, left_index, right_index, sort, suffixes, copy, indicator, validate)\u001b[0m\n\u001b[0;32m    105\u001b[0m     \u001b[0mvalidate\u001b[0m\u001b[1;33m:\u001b[0m \u001b[0mstr\u001b[0m \u001b[1;33m|\u001b[0m \u001b[1;32mNone\u001b[0m \u001b[1;33m=\u001b[0m \u001b[1;32mNone\u001b[0m\u001b[1;33m,\u001b[0m\u001b[1;33m\u001b[0m\u001b[1;33m\u001b[0m\u001b[0m\n\u001b[0;32m    106\u001b[0m ) -> DataFrame:\n\u001b[1;32m--> 107\u001b[1;33m     op = _MergeOperation(\n\u001b[0m\u001b[0;32m    108\u001b[0m         \u001b[0mleft\u001b[0m\u001b[1;33m,\u001b[0m\u001b[1;33m\u001b[0m\u001b[1;33m\u001b[0m\u001b[0m\n\u001b[0;32m    109\u001b[0m         \u001b[0mright\u001b[0m\u001b[1;33m,\u001b[0m\u001b[1;33m\u001b[0m\u001b[1;33m\u001b[0m\u001b[0m\n",
      "\u001b[1;32m~\\anaconda3\\lib\\site-packages\\pandas\\core\\reshape\\merge.py\u001b[0m in \u001b[0;36m__init__\u001b[1;34m(self, left, right, how, on, left_on, right_on, axis, left_index, right_index, sort, suffixes, copy, indicator, validate)\u001b[0m\n\u001b[0;32m    698\u001b[0m             \u001b[0mself\u001b[0m\u001b[1;33m.\u001b[0m\u001b[0mright_join_keys\u001b[0m\u001b[1;33m,\u001b[0m\u001b[1;33m\u001b[0m\u001b[1;33m\u001b[0m\u001b[0m\n\u001b[0;32m    699\u001b[0m             \u001b[0mself\u001b[0m\u001b[1;33m.\u001b[0m\u001b[0mjoin_names\u001b[0m\u001b[1;33m,\u001b[0m\u001b[1;33m\u001b[0m\u001b[1;33m\u001b[0m\u001b[0m\n\u001b[1;32m--> 700\u001b[1;33m         ) = self._get_merge_keys()\n\u001b[0m\u001b[0;32m    701\u001b[0m \u001b[1;33m\u001b[0m\u001b[0m\n\u001b[0;32m    702\u001b[0m         \u001b[1;31m# validate the merge keys dtypes. We may need to coerce\u001b[0m\u001b[1;33m\u001b[0m\u001b[1;33m\u001b[0m\u001b[0m\n",
      "\u001b[1;32m~\\anaconda3\\lib\\site-packages\\pandas\\core\\reshape\\merge.py\u001b[0m in \u001b[0;36m_get_merge_keys\u001b[1;34m(self)\u001b[0m\n\u001b[0;32m   1086\u001b[0m                     \u001b[1;32melse\u001b[0m\u001b[1;33m:\u001b[0m\u001b[1;33m\u001b[0m\u001b[1;33m\u001b[0m\u001b[0m\n\u001b[0;32m   1087\u001b[0m                         \u001b[1;32mif\u001b[0m \u001b[0mrk\u001b[0m \u001b[1;32mis\u001b[0m \u001b[1;32mnot\u001b[0m \u001b[1;32mNone\u001b[0m\u001b[1;33m:\u001b[0m\u001b[1;33m\u001b[0m\u001b[1;33m\u001b[0m\u001b[0m\n\u001b[1;32m-> 1088\u001b[1;33m                             \u001b[0mright_keys\u001b[0m\u001b[1;33m.\u001b[0m\u001b[0mappend\u001b[0m\u001b[1;33m(\u001b[0m\u001b[0mright\u001b[0m\u001b[1;33m.\u001b[0m\u001b[0m_get_label_or_level_values\u001b[0m\u001b[1;33m(\u001b[0m\u001b[0mrk\u001b[0m\u001b[1;33m)\u001b[0m\u001b[1;33m)\u001b[0m\u001b[1;33m\u001b[0m\u001b[1;33m\u001b[0m\u001b[0m\n\u001b[0m\u001b[0;32m   1089\u001b[0m                             \u001b[0mjoin_names\u001b[0m\u001b[1;33m.\u001b[0m\u001b[0mappend\u001b[0m\u001b[1;33m(\u001b[0m\u001b[0mrk\u001b[0m\u001b[1;33m)\u001b[0m\u001b[1;33m\u001b[0m\u001b[1;33m\u001b[0m\u001b[0m\n\u001b[0;32m   1090\u001b[0m                         \u001b[1;32melse\u001b[0m\u001b[1;33m:\u001b[0m\u001b[1;33m\u001b[0m\u001b[1;33m\u001b[0m\u001b[0m\n",
      "\u001b[1;32m~\\anaconda3\\lib\\site-packages\\pandas\\core\\generic.py\u001b[0m in \u001b[0;36m_get_label_or_level_values\u001b[1;34m(self, key, axis)\u001b[0m\n\u001b[0;32m   1838\u001b[0m             \u001b[0mvalues\u001b[0m \u001b[1;33m=\u001b[0m \u001b[0mself\u001b[0m\u001b[1;33m.\u001b[0m\u001b[0maxes\u001b[0m\u001b[1;33m[\u001b[0m\u001b[0maxis\u001b[0m\u001b[1;33m]\u001b[0m\u001b[1;33m.\u001b[0m\u001b[0mget_level_values\u001b[0m\u001b[1;33m(\u001b[0m\u001b[0mkey\u001b[0m\u001b[1;33m)\u001b[0m\u001b[1;33m.\u001b[0m\u001b[0m_values\u001b[0m\u001b[1;33m\u001b[0m\u001b[1;33m\u001b[0m\u001b[0m\n\u001b[0;32m   1839\u001b[0m         \u001b[1;32melse\u001b[0m\u001b[1;33m:\u001b[0m\u001b[1;33m\u001b[0m\u001b[1;33m\u001b[0m\u001b[0m\n\u001b[1;32m-> 1840\u001b[1;33m             \u001b[1;32mraise\u001b[0m \u001b[0mKeyError\u001b[0m\u001b[1;33m(\u001b[0m\u001b[0mkey\u001b[0m\u001b[1;33m)\u001b[0m\u001b[1;33m\u001b[0m\u001b[1;33m\u001b[0m\u001b[0m\n\u001b[0m\u001b[0;32m   1841\u001b[0m \u001b[1;33m\u001b[0m\u001b[0m\n\u001b[0;32m   1842\u001b[0m         \u001b[1;31m# Check for duplicates\u001b[0m\u001b[1;33m\u001b[0m\u001b[1;33m\u001b[0m\u001b[0m\n",
      "\u001b[1;31mKeyError\u001b[0m: 0      EZETIMIBE 10 MG TABLET 100\n1      EZETIMIBE 10 MG TABLET 100\n2      EZETIMIBE 10 MG TABLET 100\n3      EZETIMIBE 10 MG TABLET 100\n4      EZETIMIBE 10 MG TABLET 100\n                  ...            \n255      TADALAFIL 5 MG TABLET 90\n256      TADALAFIL 5 MG TABLET 90\n257      TADALAFIL 5 MG TABLET 90\n258      TADALAFIL 5 MG TABLET 90\n259      TADALAFIL 5 MG TABLET 90\nName: With packsize, Length: 260, dtype: object"
     ]
    }
   ],
   "source": [
    "check= price[\"Cost\"].merge(price[\"detail\"], \n",
    "                                     on = [price[\"Cost\"]['With packsize'],price[\"detail\"]['With packsize']], \n",
    "                                     how = \"right\")\n",
    "check"
   ]
  },
  {
   "cell_type": "code",
   "execution_count": null,
   "id": "29355c2a",
   "metadata": {},
   "outputs": [],
   "source": []
  }
 ],
 "metadata": {
  "kernelspec": {
   "display_name": "Python 3 (ipykernel)",
   "language": "python",
   "name": "python3"
  },
  "language_info": {
   "codemirror_mode": {
    "name": "ipython",
    "version": 3
   },
   "file_extension": ".py",
   "mimetype": "text/x-python",
   "name": "python",
   "nbconvert_exporter": "python",
   "pygments_lexer": "ipython3",
   "version": "3.9.13"
  }
 },
 "nbformat": 4,
 "nbformat_minor": 5
}
